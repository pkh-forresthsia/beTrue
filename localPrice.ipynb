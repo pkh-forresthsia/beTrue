{
 "cells": [
  {
   "cell_type": "code",
   "execution_count": 1,
   "id": "3c57e29c",
   "metadata": {},
   "outputs": [],
   "source": [
    "from dayData import *"
   ]
  },
  {
   "cell_type": "code",
   "execution_count": 2,
   "id": "87e8b3fb",
   "metadata": {},
   "outputs": [],
   "source": [
    "localValue=LocalValue()"
   ]
  },
  {
   "cell_type": "code",
   "execution_count": 3,
   "id": "db8ac68b",
   "metadata": {},
   "outputs": [],
   "source": [
    "pd.set_option('display.max_columns',None)\n",
    "pd.set_option('display.max_rows',None)"
   ]
  },
  {
   "cell_type": "code",
   "execution_count": 3,
   "id": "c9716ad4",
   "metadata": {
    "scrolled": true
   },
   "outputs": [
    {
     "name": "stderr",
     "output_type": "stream",
     "text": [
      "C:\\Users\\user\\Desktop\\Jesse\\beTrue\\main\\dayData.py:60: SettingWithCopyWarning: \n",
      "A value is trying to be set on a copy of a slice from a DataFrame\n",
      "\n",
      "See the caveats in the documentation: https://pandas.pydata.org/pandas-docs/stable/user_guide/indexing.html#returning-a-view-versus-a-copy\n",
      "  localPeriod['dayDiffer'][i]=dm.daysDiffer(localPeriod['day1'][i],localPeriod['day2'][i])\n",
      "C:\\Users\\user\\Desktop\\Jesse\\beTrue\\main\\dayData.py:61: SettingWithCopyWarning: \n",
      "A value is trying to be set on a copy of a slice from a DataFrame\n",
      "\n",
      "See the caveats in the documentation: https://pandas.pydata.org/pandas-docs/stable/user_guide/indexing.html#returning-a-view-versus-a-copy\n",
      "  localPeriod['increase%'][i]=round(localPeriod['increase%'][i])\n"
     ]
    },
    {
     "data": {
      "text/html": [
       "<div>\n",
       "<style scoped>\n",
       "    .dataframe tbody tr th:only-of-type {\n",
       "        vertical-align: middle;\n",
       "    }\n",
       "\n",
       "    .dataframe tbody tr th {\n",
       "        vertical-align: top;\n",
       "    }\n",
       "\n",
       "    .dataframe thead th {\n",
       "        text-align: right;\n",
       "    }\n",
       "</style>\n",
       "<table border=\"1\" class=\"dataframe\">\n",
       "  <thead>\n",
       "    <tr style=\"text-align: right;\">\n",
       "      <th></th>\n",
       "      <th>stockPrice</th>\n",
       "      <th>localValue</th>\n",
       "      <th>dayDiffer</th>\n",
       "      <th>increase%</th>\n",
       "    </tr>\n",
       "  </thead>\n",
       "  <tbody>\n",
       "    <tr>\n",
       "      <th>1999-07-03</th>\n",
       "      <td>8710.71</td>\n",
       "      <td>localMax</td>\n",
       "      <td>148</td>\n",
       "      <td>61</td>\n",
       "    </tr>\n",
       "    <tr>\n",
       "      <th>1999-08-07</th>\n",
       "      <td>6771.75</td>\n",
       "      <td>localMin</td>\n",
       "      <td>35</td>\n",
       "      <td>-22</td>\n",
       "    </tr>\n",
       "    <tr>\n",
       "      <th>1999-09-02</th>\n",
       "      <td>8414.6</td>\n",
       "      <td>localMax</td>\n",
       "      <td>26</td>\n",
       "      <td>24</td>\n",
       "    </tr>\n",
       "    <tr>\n",
       "      <th>1999-11-08</th>\n",
       "      <td>7261.31</td>\n",
       "      <td>localMin</td>\n",
       "      <td>67</td>\n",
       "      <td>-14</td>\n",
       "    </tr>\n",
       "    <tr>\n",
       "      <th>2000-02-18</th>\n",
       "      <td>10393.6</td>\n",
       "      <td>localMax</td>\n",
       "      <td>102</td>\n",
       "      <td>43</td>\n",
       "    </tr>\n",
       "    <tr>\n",
       "      <th>...</th>\n",
       "      <td>...</td>\n",
       "      <td>...</td>\n",
       "      <td>...</td>\n",
       "      <td>...</td>\n",
       "    </tr>\n",
       "    <tr>\n",
       "      <th>2022-05-12</th>\n",
       "      <td>15616.68</td>\n",
       "      <td>localMin</td>\n",
       "      <td>127</td>\n",
       "      <td>-16</td>\n",
       "    </tr>\n",
       "    <tr>\n",
       "      <th>2022-06-01</th>\n",
       "      <td>16811.04</td>\n",
       "      <td>localMax</td>\n",
       "      <td>20</td>\n",
       "      <td>8</td>\n",
       "    </tr>\n",
       "    <tr>\n",
       "      <th>2022-07-12</th>\n",
       "      <td>13928.66</td>\n",
       "      <td>localMin</td>\n",
       "      <td>41</td>\n",
       "      <td>-17</td>\n",
       "    </tr>\n",
       "    <tr>\n",
       "      <th>2022-08-17</th>\n",
       "      <td>15475.89</td>\n",
       "      <td>localMax</td>\n",
       "      <td>36</td>\n",
       "      <td>11</td>\n",
       "    </tr>\n",
       "    <tr>\n",
       "      <th>2022-10-25</th>\n",
       "      <td>12629.48</td>\n",
       "      <td>localMin</td>\n",
       "      <td>69</td>\n",
       "      <td>-18</td>\n",
       "    </tr>\n",
       "  </tbody>\n",
       "</table>\n",
       "<p>160 rows × 4 columns</p>\n",
       "</div>"
      ],
      "text/plain": [
       "           stockPrice localValue  dayDiffer increase%\n",
       "1999-07-03    8710.71   localMax        148        61\n",
       "1999-08-07    6771.75   localMin         35       -22\n",
       "1999-09-02     8414.6   localMax         26        24\n",
       "1999-11-08    7261.31   localMin         67       -14\n",
       "2000-02-18    10393.6   localMax        102        43\n",
       "...               ...        ...        ...       ...\n",
       "2022-05-12   15616.68   localMin        127       -16\n",
       "2022-06-01   16811.04   localMax         20         8\n",
       "2022-07-12   13928.66   localMin         41       -17\n",
       "2022-08-17   15475.89   localMax         36        11\n",
       "2022-10-25   12629.48   localMin         69       -18\n",
       "\n",
       "[160 rows x 4 columns]"
      ]
     },
     "execution_count": 3,
     "metadata": {},
     "output_type": "execute_result"
    }
   ],
   "source": [
    "localPeriodDetail=localValue.localPeriodDetail(20)\n",
    "localPeriodDetail"
   ]
  },
  {
   "cell_type": "code",
   "execution_count": 7,
   "id": "ae85b5c7",
   "metadata": {},
   "outputs": [
    {
     "name": "stderr",
     "output_type": "stream",
     "text": [
      "C:\\Users\\user\\AppData\\Local\\Temp/ipykernel_3936/65482928.py:2: SettingWithCopyWarning: \n",
      "A value is trying to be set on a copy of a slice from a DataFrame.\n",
      "Try using .loc[row_indexer,col_indexer] = value instead\n",
      "\n",
      "See the caveats in the documentation: https://pandas.pydata.org/pandas-docs/stable/user_guide/indexing.html#returning-a-view-versus-a-copy\n",
      "  incP['condition']=incP['increase%']>10\n"
     ]
    },
    {
     "data": {
      "text/plain": [
       "49"
      ]
     },
     "execution_count": 7,
     "metadata": {},
     "output_type": "execute_result"
    }
   ],
   "source": [
    "incP=localPeriodDetail[localPeriodDetail['localValue']=='localMax']\n",
    "incP['condition']=incP['increase%']>10\n",
    "incP['condition'].sum()"
   ]
  },
  {
   "cell_type": "code",
   "execution_count": 11,
   "id": "9993724d",
   "metadata": {},
   "outputs": [
    {
     "data": {
      "text/html": [
       "<div>\n",
       "<style scoped>\n",
       "    .dataframe tbody tr th:only-of-type {\n",
       "        vertical-align: middle;\n",
       "    }\n",
       "\n",
       "    .dataframe tbody tr th {\n",
       "        vertical-align: top;\n",
       "    }\n",
       "\n",
       "    .dataframe thead th {\n",
       "        text-align: right;\n",
       "    }\n",
       "</style>\n",
       "<table border=\"1\" class=\"dataframe\">\n",
       "  <thead>\n",
       "    <tr style=\"text-align: right;\">\n",
       "      <th></th>\n",
       "      <th>stockPrice</th>\n",
       "      <th>localValue</th>\n",
       "      <th>dayDiffer</th>\n",
       "      <th>increase%</th>\n",
       "      <th>condition</th>\n",
       "    </tr>\n",
       "  </thead>\n",
       "  <tbody>\n",
       "    <tr>\n",
       "      <th>1999-07-03</th>\n",
       "      <td>8710.71</td>\n",
       "      <td>localMax</td>\n",
       "      <td>148</td>\n",
       "      <td>61</td>\n",
       "      <td>True</td>\n",
       "    </tr>\n",
       "    <tr>\n",
       "      <th>1999-09-02</th>\n",
       "      <td>8414.6</td>\n",
       "      <td>localMax</td>\n",
       "      <td>26</td>\n",
       "      <td>24</td>\n",
       "      <td>True</td>\n",
       "    </tr>\n",
       "    <tr>\n",
       "      <th>2000-02-18</th>\n",
       "      <td>10393.6</td>\n",
       "      <td>localMax</td>\n",
       "      <td>102</td>\n",
       "      <td>43</td>\n",
       "      <td>True</td>\n",
       "    </tr>\n",
       "    <tr>\n",
       "      <th>2000-04-06</th>\n",
       "      <td>10329.0</td>\n",
       "      <td>localMax</td>\n",
       "      <td>21</td>\n",
       "      <td>25</td>\n",
       "      <td>True</td>\n",
       "    </tr>\n",
       "    <tr>\n",
       "      <th>2000-06-08</th>\n",
       "      <td>9209.48</td>\n",
       "      <td>localMax</td>\n",
       "      <td>28</td>\n",
       "      <td>11</td>\n",
       "      <td>True</td>\n",
       "    </tr>\n",
       "    <tr>\n",
       "      <th>...</th>\n",
       "      <td>...</td>\n",
       "      <td>...</td>\n",
       "      <td>...</td>\n",
       "      <td>...</td>\n",
       "      <td>...</td>\n",
       "    </tr>\n",
       "    <tr>\n",
       "      <th>2021-07-15</th>\n",
       "      <td>18034.19</td>\n",
       "      <td>localMax</td>\n",
       "      <td>59</td>\n",
       "      <td>19</td>\n",
       "      <td>True</td>\n",
       "    </tr>\n",
       "    <tr>\n",
       "      <th>2021-09-06</th>\n",
       "      <td>17633.67</td>\n",
       "      <td>localMax</td>\n",
       "      <td>17</td>\n",
       "      <td>9</td>\n",
       "      <td>False</td>\n",
       "    </tr>\n",
       "    <tr>\n",
       "      <th>2022-01-05</th>\n",
       "      <td>18619.61</td>\n",
       "      <td>localMax</td>\n",
       "      <td>92</td>\n",
       "      <td>15</td>\n",
       "      <td>True</td>\n",
       "    </tr>\n",
       "    <tr>\n",
       "      <th>2022-06-01</th>\n",
       "      <td>16811.04</td>\n",
       "      <td>localMax</td>\n",
       "      <td>20</td>\n",
       "      <td>8</td>\n",
       "      <td>False</td>\n",
       "    </tr>\n",
       "    <tr>\n",
       "      <th>2022-08-17</th>\n",
       "      <td>15475.89</td>\n",
       "      <td>localMax</td>\n",
       "      <td>36</td>\n",
       "      <td>11</td>\n",
       "      <td>True</td>\n",
       "    </tr>\n",
       "  </tbody>\n",
       "</table>\n",
       "<p>80 rows × 5 columns</p>\n",
       "</div>"
      ],
      "text/plain": [
       "           stockPrice localValue  dayDiffer increase%  condition\n",
       "1999-07-03    8710.71   localMax        148        61       True\n",
       "1999-09-02     8414.6   localMax         26        24       True\n",
       "2000-02-18    10393.6   localMax        102        43       True\n",
       "2000-04-06    10329.0   localMax         21        25       True\n",
       "2000-06-08    9209.48   localMax         28        11       True\n",
       "...               ...        ...        ...       ...        ...\n",
       "2021-07-15   18034.19   localMax         59        19       True\n",
       "2021-09-06   17633.67   localMax         17         9      False\n",
       "2022-01-05   18619.61   localMax         92        15       True\n",
       "2022-06-01   16811.04   localMax         20         8      False\n",
       "2022-08-17   15475.89   localMax         36        11       True\n",
       "\n",
       "[80 rows x 5 columns]"
      ]
     },
     "execution_count": 11,
     "metadata": {},
     "output_type": "execute_result"
    }
   ],
   "source": [
    "incP"
   ]
  },
  {
   "cell_type": "code",
   "execution_count": 10,
   "id": "714f041f",
   "metadata": {},
   "outputs": [
    {
     "data": {
      "text/plain": [
       "14728.88"
      ]
     },
     "execution_count": 10,
     "metadata": {},
     "output_type": "execute_result"
    }
   ],
   "source": [
    "localValue.price('close')[\"TAIEX\"][-1]"
   ]
  },
  {
   "cell_type": "code",
   "execution_count": null,
   "id": "bcddc528",
   "metadata": {},
   "outputs": [],
   "source": []
  }
 ],
 "metadata": {
  "kernelspec": {
   "display_name": "Python 3 (ipykernel)",
   "language": "python",
   "name": "python3"
  },
  "language_info": {
   "codemirror_mode": {
    "name": "ipython",
    "version": 3
   },
   "file_extension": ".py",
   "mimetype": "text/x-python",
   "name": "python",
   "nbconvert_exporter": "python",
   "pygments_lexer": "ipython3",
   "version": "3.9.7"
  }
 },
 "nbformat": 4,
 "nbformat_minor": 5
}
