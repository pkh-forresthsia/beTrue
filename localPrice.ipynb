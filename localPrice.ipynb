{
 "cells": [
  {
   "cell_type": "code",
   "execution_count": 1,
   "id": "3c57e29c",
   "metadata": {},
   "outputs": [],
   "source": [
    "from dayData import *"
   ]
  },
  {
   "cell_type": "code",
   "execution_count": 2,
   "id": "87e8b3fb",
   "metadata": {},
   "outputs": [],
   "source": [
    "dayData=DayData()"
   ]
  },
  {
   "cell_type": "code",
   "execution_count": 5,
   "id": "651da323",
   "metadata": {},
   "outputs": [
    {
     "data": {
      "text/plain": [
       "date\n",
       "1999-01-05     6310.41\n",
       "1999-01-06     6280.93\n",
       "1999-01-07     6409.55\n",
       "1999-01-08     6492.87\n",
       "1999-01-11     6492.90\n",
       "                ...   \n",
       "2022-11-30    14879.55\n",
       "2022-12-01    15152.38\n",
       "2022-12-02    15021.73\n",
       "2022-12-05    15088.06\n",
       "2022-12-06    14957.82\n",
       "Name: TAIEX, Length: 5952, dtype: float64"
      ]
     },
     "execution_count": 5,
     "metadata": {},
     "output_type": "execute_result"
    }
   ],
   "source": [
    "priceMax=dayData.price('max')['TAIEX'].dropna()\n",
    "priceMax"
   ]
  },
  {
   "cell_type": "code",
   "execution_count": 7,
   "id": "511b7494",
   "metadata": {},
   "outputs": [],
   "source": [
    "n=2"
   ]
  },
  {
   "cell_type": "code",
   "execution_count": 9,
   "id": "7346932c",
   "metadata": {},
   "outputs": [
    {
     "data": {
      "text/plain": [
       "date\n",
       "1999-01-07     6409.55\n",
       "1999-01-08     6492.87\n",
       "1999-01-11     6492.90\n",
       "1999-01-12     6441.79\n",
       "1999-01-13     6365.60\n",
       "                ...   \n",
       "2022-11-30    14879.55\n",
       "2022-12-01    15152.38\n",
       "2022-12-02    15021.73\n",
       "2022-12-05    15088.06\n",
       "2022-12-06    14957.82\n",
       "Name: TAIEX, Length: 5950, dtype: float64"
      ]
     },
     "execution_count": 9,
     "metadata": {},
     "output_type": "execute_result"
    }
   ],
   "source": [
    "priceMax2=priceMax[n:]\n",
    "priceMax2"
   ]
  },
  {
   "cell_type": "code",
   "execution_count": 11,
   "id": "3d1af3cb",
   "metadata": {},
   "outputs": [
    {
     "data": {
      "text/plain": [
       "date\n",
       "1999-01-05         NaN\n",
       "1999-01-06     6310.41\n",
       "1999-01-07     6409.55\n",
       "1999-01-08     6492.87\n",
       "1999-01-11     6492.90\n",
       "                ...   \n",
       "2022-11-30    14879.55\n",
       "2022-12-01    15152.38\n",
       "2022-12-02    15152.38\n",
       "2022-12-05    15088.06\n",
       "2022-12-06    15088.06\n",
       "Name: TAIEX, Length: 5952, dtype: float64"
      ]
     },
     "execution_count": 11,
     "metadata": {},
     "output_type": "execute_result"
    }
   ],
   "source": [
    "priceMax.rolling(n).max()"
   ]
  },
  {
   "cell_type": "code",
   "execution_count": 12,
   "id": "0f109a00",
   "metadata": {},
   "outputs": [
    {
     "data": {
      "text/plain": [
       "date\n",
       "1999-01-07         NaN\n",
       "1999-01-08     6492.87\n",
       "1999-01-11     6492.90\n",
       "1999-01-12     6492.90\n",
       "1999-01-13     6441.79\n",
       "                ...   \n",
       "2022-11-30    14879.55\n",
       "2022-12-01    15152.38\n",
       "2022-12-02    15152.38\n",
       "2022-12-05    15088.06\n",
       "2022-12-06    15088.06\n",
       "Name: TAIEX, Length: 5950, dtype: float64"
      ]
     },
     "execution_count": 12,
     "metadata": {},
     "output_type": "execute_result"
    }
   ],
   "source": [
    "priceMax2.rolling(n).max()"
   ]
  },
  {
   "cell_type": "code",
   "execution_count": null,
   "id": "7f91bb43",
   "metadata": {},
   "outputs": [],
   "source": []
  },
  {
   "cell_type": "code",
   "execution_count": 16,
   "id": "df9d73a8",
   "metadata": {},
   "outputs": [
    {
     "data": {
      "text/plain": [
       "date\n",
       "1992-01-04      NaN\n",
       "1992-01-06    70.50\n",
       "1992-01-07    70.50\n",
       "1992-01-08    71.00\n",
       "1992-01-09    71.00\n",
       "              ...  \n",
       "2022-11-30    33.90\n",
       "2022-12-01    34.05\n",
       "2022-12-02    34.05\n",
       "2022-12-05    33.70\n",
       "2022-12-06    33.70\n",
       "Name: 1101, Length: 7936, dtype: float64"
      ]
     },
     "execution_count": 16,
     "metadata": {},
     "output_type": "execute_result"
    }
   ],
   "source": [
    "closePrice['1101'].rolling(2).max()"
   ]
  },
  {
   "cell_type": "code",
   "execution_count": null,
   "id": "ac7b9ccb",
   "metadata": {},
   "outputs": [],
   "source": []
  }
 ],
 "metadata": {
  "kernelspec": {
   "display_name": "Python 3 (ipykernel)",
   "language": "python",
   "name": "python3"
  },
  "language_info": {
   "codemirror_mode": {
    "name": "ipython",
    "version": 3
   },
   "file_extension": ".py",
   "mimetype": "text/x-python",
   "name": "python",
   "nbconvert_exporter": "python",
   "pygments_lexer": "ipython3",
   "version": "3.9.7"
  }
 },
 "nbformat": 4,
 "nbformat_minor": 5
}
