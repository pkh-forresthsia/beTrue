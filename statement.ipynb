{
 "cells": [
  {
   "cell_type": "code",
   "execution_count": 1,
   "id": "f2f7a606",
   "metadata": {},
   "outputs": [],
   "source": [
    "from seasonData import *\n",
    "\n",
    "sd=StatementData()"
   ]
  },
  {
   "cell_type": "code",
   "execution_count": 5,
   "id": "5f748b22",
   "metadata": {},
   "outputs": [],
   "source": [
    "pd.set_option('display.max_columns',None)\n",
    "pd.set_option('display.max_rows',None)"
   ]
  },
  {
   "cell_type": "code",
   "execution_count": 2,
   "id": "c8d50cf6",
   "metadata": {},
   "outputs": [],
   "source": [
    "epsData=sd.typeData(\"EPS\")\n",
    "epsSeries=sd.latestSum(epsData)"
   ]
  },
  {
   "cell_type": "code",
   "execution_count": 3,
   "id": "badaba31",
   "metadata": {
    "scrolled": false
   },
   "outputs": [],
   "source": [
    "incomeAfterTax=sd.typeData('IncomeAfterTax')\n",
    "nYearIncrease=sd.nYearIncrease(5,incomeAfterTax)"
   ]
  },
  {
   "cell_type": "code",
   "execution_count": 4,
   "id": "8458f93b",
   "metadata": {
    "scrolled": false
   },
   "outputs": [
    {
     "data": {
      "text/html": [
       "<div>\n",
       "<style scoped>\n",
       "    .dataframe tbody tr th:only-of-type {\n",
       "        vertical-align: middle;\n",
       "    }\n",
       "\n",
       "    .dataframe tbody tr th {\n",
       "        vertical-align: top;\n",
       "    }\n",
       "\n",
       "    .dataframe thead th {\n",
       "        text-align: right;\n",
       "    }\n",
       "</style>\n",
       "<table border=\"1\" class=\"dataframe\">\n",
       "  <thead>\n",
       "    <tr style=\"text-align: right;\">\n",
       "      <th></th>\n",
       "      <th>EPS4season</th>\n",
       "      <th>growth</th>\n",
       "      <th>estimatePrice</th>\n",
       "    </tr>\n",
       "    <tr>\n",
       "      <th>stock_id</th>\n",
       "      <th></th>\n",
       "      <th></th>\n",
       "      <th></th>\n",
       "    </tr>\n",
       "  </thead>\n",
       "  <tbody>\n",
       "    <tr>\n",
       "      <th>000116</th>\n",
       "      <td>2.09</td>\n",
       "      <td>0.172926</td>\n",
       "      <td>49.453611</td>\n",
       "    </tr>\n",
       "    <tr>\n",
       "      <th>000538</th>\n",
       "      <td>1.15</td>\n",
       "      <td>0.610073</td>\n",
       "      <td>119.265984</td>\n",
       "    </tr>\n",
       "    <tr>\n",
       "      <th>000616</th>\n",
       "      <td>0.71</td>\n",
       "      <td>0.608582</td>\n",
       "      <td>73.308684</td>\n",
       "    </tr>\n",
       "    <tr>\n",
       "      <th>000700</th>\n",
       "      <td>0.93</td>\n",
       "      <td>0.419826</td>\n",
       "      <td>53.145090</td>\n",
       "    </tr>\n",
       "    <tr>\n",
       "      <th>000779</th>\n",
       "      <td>1.46</td>\n",
       "      <td>0.322790</td>\n",
       "      <td>59.942282</td>\n",
       "    </tr>\n",
       "    <tr>\n",
       "      <th>...</th>\n",
       "      <td>...</td>\n",
       "      <td>...</td>\n",
       "      <td>...</td>\n",
       "    </tr>\n",
       "    <tr>\n",
       "      <th>9945</th>\n",
       "      <td>5.51</td>\n",
       "      <td>0.169739</td>\n",
       "      <td>128.785037</td>\n",
       "    </tr>\n",
       "    <tr>\n",
       "      <th>9946</th>\n",
       "      <td>0.52</td>\n",
       "      <td>-0.068850</td>\n",
       "      <td>4.502920</td>\n",
       "    </tr>\n",
       "    <tr>\n",
       "      <th>9951</th>\n",
       "      <td>4.85</td>\n",
       "      <td>-0.122594</td>\n",
       "      <td>32.910839</td>\n",
       "    </tr>\n",
       "    <tr>\n",
       "      <th>9958</th>\n",
       "      <td>2.99</td>\n",
       "      <td>0.626404</td>\n",
       "      <td>325.415618</td>\n",
       "    </tr>\n",
       "    <tr>\n",
       "      <th>9962</th>\n",
       "      <td>2.41</td>\n",
       "      <td>0.254735</td>\n",
       "      <td>77.532150</td>\n",
       "    </tr>\n",
       "  </tbody>\n",
       "</table>\n",
       "<p>1114 rows × 3 columns</p>\n",
       "</div>"
      ],
      "text/plain": [
       "          EPS4season    growth  estimatePrice\n",
       "stock_id                                     \n",
       "000116          2.09  0.172926      49.453611\n",
       "000538          1.15  0.610073     119.265984\n",
       "000616          0.71  0.608582      73.308684\n",
       "000700          0.93  0.419826      53.145090\n",
       "000779          1.46  0.322790      59.942282\n",
       "...              ...       ...            ...\n",
       "9945            5.51  0.169739     128.785037\n",
       "9946            0.52 -0.068850       4.502920\n",
       "9951            4.85 -0.122594      32.910839\n",
       "9958            2.99  0.626404     325.415618\n",
       "9962            2.41  0.254735      77.532150\n",
       "\n",
       "[1114 rows x 3 columns]"
      ]
     },
     "execution_count": 4,
     "metadata": {},
     "output_type": "execute_result"
    }
   ],
   "source": [
    "priceEstimateTable=sd.priceEstimateTable(epsSeries,nYearIncrease)\n",
    "priceEstimateTable"
   ]
  },
  {
   "cell_type": "code",
   "execution_count": 6,
   "id": "a9560c7d",
   "metadata": {},
   "outputs": [
    {
     "data": {
      "text/plain": [
       "2.09"
      ]
     },
     "execution_count": 6,
     "metadata": {},
     "output_type": "execute_result"
    }
   ],
   "source": [
    "priceEstimateTable['EPS4season'][0]"
   ]
  },
  {
   "cell_type": "code",
   "execution_count": 6,
   "id": "0fbe5b36",
   "metadata": {},
   "outputs": [],
   "source": [
    "from priceModel import *\n",
    "\n",
    "dm=DiscountModel()"
   ]
  },
  {
   "cell_type": "code",
   "execution_count": 7,
   "id": "559fecb2",
   "metadata": {},
   "outputs": [],
   "source": [
    "priceEstimateDifferTable=dm.priceEstimateDifferTable(priceEstimateTable)"
   ]
  },
  {
   "cell_type": "code",
   "execution_count": 10,
   "id": "54651f11",
   "metadata": {
    "scrolled": true
   },
   "outputs": [
    {
     "data": {
      "text/plain": [
       "EPS4season        34.21\n",
       "growth            20.90\n",
       "estimatePrice    927.00\n",
       "price            466.50\n",
       "priceHigher      -50.00\n",
       "Name: 2330, dtype: float64"
      ]
     },
     "execution_count": 10,
     "metadata": {},
     "output_type": "execute_result"
    }
   ],
   "source": [
    "priceEstimateDifferTable.sort_values(by='priceHigher')"
   ]
  },
  {
   "cell_type": "code",
   "execution_count": null,
   "id": "1185f523",
   "metadata": {},
   "outputs": [],
   "source": []
  }
 ],
 "metadata": {
  "kernelspec": {
   "display_name": "Python 3 (ipykernel)",
   "language": "python",
   "name": "python3"
  },
  "language_info": {
   "codemirror_mode": {
    "name": "ipython",
    "version": 3
   },
   "file_extension": ".py",
   "mimetype": "text/x-python",
   "name": "python",
   "nbconvert_exporter": "python",
   "pygments_lexer": "ipython3",
   "version": "3.9.13"
  }
 },
 "nbformat": 4,
 "nbformat_minor": 5
}
