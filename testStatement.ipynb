{
 "cells": [
  {
   "cell_type": "code",
   "execution_count": 1,
   "id": "4d9f9106",
   "metadata": {},
   "outputs": [],
   "source": [
    "from statement import *\n",
    "pd.set_option('display.max_columns',None)\n",
    "pd.set_option('display.max_rows',None)"
   ]
  },
  {
   "cell_type": "code",
   "execution_count": 2,
   "id": "076a74d5",
   "metadata": {},
   "outputs": [],
   "source": [
    "st=StatementManage('2022-11-08',2)"
   ]
  },
  {
   "cell_type": "code",
   "execution_count": 3,
   "id": "3a2a4b88",
   "metadata": {
    "scrolled": true
   },
   "outputs": [
    {
     "name": "stderr",
     "output_type": "stream",
     "text": [
      "C:\\Users\\user\\anaconda3\\lib\\site-packages\\pandas\\core\\indexing.py:1732: SettingWithCopyWarning: \n",
      "A value is trying to be set on a copy of a slice from a DataFrame\n",
      "\n",
      "See the caveats in the documentation: https://pandas.pydata.org/pandas-docs/stable/user_guide/indexing.html#returning-a-view-versus-a-copy\n",
      "  self._setitem_single_block(indexer, value, name)\n"
     ]
    }
   ],
   "source": [
    "periodAnalysis1=st.periodAnalysis('Income')\n",
    "# periodAnalysis1[periodAnalysis1['incP']>0.7].sort_values(by='growth')\n",
    "periodAnalysis1"
   ]
  },
  {
   "cell_type": "code",
   "execution_count": 3,
   "id": "ddec7b8c",
   "metadata": {},
   "outputs": [
    {
     "data": {
      "text/latex": [
       "$\\displaystyle 0.260345539718259$"
      ],
      "text/plain": [
       "0.260345539718259"
      ]
     },
     "execution_count": 3,
     "metadata": {},
     "output_type": "execute_result"
    }
   ],
   "source": [
    "st.discountRate(21.5,706)"
   ]
  },
  {
   "cell_type": "code",
   "execution_count": 4,
   "id": "a70ab649",
   "metadata": {},
   "outputs": [
    {
     "data": {
      "text/plain": [
       "705.1107910798438"
      ]
     },
     "execution_count": 4,
     "metadata": {},
     "output_type": "execute_result"
    }
   ],
   "source": [
    "st.estimatePrice(21.5,0.26)"
   ]
  },
  {
   "cell_type": "code",
   "execution_count": 2,
   "id": "6b6a76fe",
   "metadata": {},
   "outputs": [],
   "source": [
    "ids=InfoId()\n",
    "ids.getId()"
   ]
  },
  {
   "cell_type": "code",
   "execution_count": null,
   "id": "9aa80380",
   "metadata": {},
   "outputs": [],
   "source": []
  }
 ],
 "metadata": {
  "kernelspec": {
   "display_name": "Python 3 (ipykernel)",
   "language": "python",
   "name": "python3"
  },
  "language_info": {
   "codemirror_mode": {
    "name": "ipython",
    "version": 3
   },
   "file_extension": ".py",
   "mimetype": "text/x-python",
   "name": "python",
   "nbconvert_exporter": "python",
   "pygments_lexer": "ipython3",
   "version": "3.9.7"
  }
 },
 "nbformat": 4,
 "nbformat_minor": 5
}
