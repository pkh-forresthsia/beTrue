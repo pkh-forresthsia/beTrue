{
 "cells": [
  {
   "cell_type": "code",
   "execution_count": 1,
   "id": "4d9f9106",
   "metadata": {},
   "outputs": [],
   "source": [
    "from statement import *"
   ]
  },
  {
   "cell_type": "code",
   "execution_count": 2,
   "id": "887ffd66",
   "metadata": {},
   "outputs": [],
   "source": [
    "info=Info()"
   ]
  },
  {
   "cell_type": "code",
   "execution_count": 6,
   "id": "65f8ef12",
   "metadata": {},
   "outputs": [],
   "source": [
    "tempdf=info.nYearDataFromSql('2022-11-08',2)"
   ]
  },
  {
   "cell_type": "code",
   "execution_count": 7,
   "id": "a2d892b1",
   "metadata": {},
   "outputs": [
    {
     "data": {
      "text/plain": [
       "[['2021-09-30', '2021-12-31', '2022-03-31', '2022-06-30'],\n",
       " ['2020-09-30', '2020-12-31', '2021-03-31', '2021-06-30']]"
      ]
     },
     "execution_count": 7,
     "metadata": {},
     "output_type": "execute_result"
    }
   ],
   "source": [
    "tempdf"
   ]
  },
  {
   "cell_type": "code",
   "execution_count": 6,
   "id": "94d5a7d8",
   "metadata": {},
   "outputs": [
    {
     "data": {
      "text/html": [
       "<div>\n",
       "<style scoped>\n",
       "    .dataframe tbody tr th:only-of-type {\n",
       "        vertical-align: middle;\n",
       "    }\n",
       "\n",
       "    .dataframe tbody tr th {\n",
       "        vertical-align: top;\n",
       "    }\n",
       "\n",
       "    .dataframe thead th {\n",
       "        text-align: right;\n",
       "    }\n",
       "</style>\n",
       "<table border=\"1\" class=\"dataframe\">\n",
       "  <thead>\n",
       "    <tr style=\"text-align: right;\">\n",
       "      <th></th>\n",
       "      <th>index</th>\n",
       "      <th>date</th>\n",
       "      <th>stock_id</th>\n",
       "      <th>type</th>\n",
       "      <th>value</th>\n",
       "      <th>origin_name</th>\n",
       "    </tr>\n",
       "  </thead>\n",
       "  <tbody>\n",
       "    <tr>\n",
       "      <th>329</th>\n",
       "      <td>329</td>\n",
       "      <td>2021-06-30</td>\n",
       "      <td>1101</td>\n",
       "      <td>OperatingExpenses</td>\n",
       "      <td>1.565027e+09</td>\n",
       "      <td>營業費用</td>\n",
       "    </tr>\n",
       "    <tr>\n",
       "      <th>330</th>\n",
       "      <td>330</td>\n",
       "      <td>2021-06-30</td>\n",
       "      <td>1101</td>\n",
       "      <td>TAX</td>\n",
       "      <td>2.054650e+09</td>\n",
       "      <td>所得稅費用（利益）</td>\n",
       "    </tr>\n",
       "    <tr>\n",
       "      <th>331</th>\n",
       "      <td>331</td>\n",
       "      <td>2021-06-30</td>\n",
       "      <td>1101</td>\n",
       "      <td>IncomeLossFromDiscontinuedOperation</td>\n",
       "      <td>5.288820e+08</td>\n",
       "      <td>停業單位損益</td>\n",
       "    </tr>\n",
       "    <tr>\n",
       "      <th>332</th>\n",
       "      <td>332</td>\n",
       "      <td>2021-06-30</td>\n",
       "      <td>1101</td>\n",
       "      <td>EPS</td>\n",
       "      <td>1.250000e+00</td>\n",
       "      <td>基本每股盈餘（元）</td>\n",
       "    </tr>\n",
       "    <tr>\n",
       "      <th>333</th>\n",
       "      <td>333</td>\n",
       "      <td>2021-06-30</td>\n",
       "      <td>1101</td>\n",
       "      <td>PreTaxIncome</td>\n",
       "      <td>9.798708e+09</td>\n",
       "      <td>稅前淨利（淨損）</td>\n",
       "    </tr>\n",
       "    <tr>\n",
       "      <th>...</th>\n",
       "      <td>...</td>\n",
       "      <td>...</td>\n",
       "      <td>...</td>\n",
       "      <td>...</td>\n",
       "      <td>...</td>\n",
       "      <td>...</td>\n",
       "    </tr>\n",
       "    <tr>\n",
       "      <th>150</th>\n",
       "      <td>150</td>\n",
       "      <td>2021-03-31</td>\n",
       "      <td>1101</td>\n",
       "      <td>TotalNonoperatingIncomeAndExpense</td>\n",
       "      <td>6.474970e+08</td>\n",
       "      <td>營業外收入及支出</td>\n",
       "    </tr>\n",
       "    <tr>\n",
       "      <th>151</th>\n",
       "      <td>151</td>\n",
       "      <td>2021-03-31</td>\n",
       "      <td>1101</td>\n",
       "      <td>OtherComprehensiveIncome</td>\n",
       "      <td>-6.930240e+08</td>\n",
       "      <td>其他綜合損益（淨額）</td>\n",
       "    </tr>\n",
       "    <tr>\n",
       "      <th>152</th>\n",
       "      <td>152</td>\n",
       "      <td>2021-03-31</td>\n",
       "      <td>1101</td>\n",
       "      <td>EquityAttributableToOwnersOfParent</td>\n",
       "      <td>2.621147e+09</td>\n",
       "      <td>綜合損益總額歸屬於母公司業主</td>\n",
       "    </tr>\n",
       "    <tr>\n",
       "      <th>153</th>\n",
       "      <td>153</td>\n",
       "      <td>2021-03-31</td>\n",
       "      <td>1101</td>\n",
       "      <td>NoncontrollingInterests</td>\n",
       "      <td>4.160660e+08</td>\n",
       "      <td>綜合損益總額歸屬於非控制權益</td>\n",
       "    </tr>\n",
       "    <tr>\n",
       "      <th>154</th>\n",
       "      <td>154</td>\n",
       "      <td>2021-03-31</td>\n",
       "      <td>1101</td>\n",
       "      <td>GrossProfit</td>\n",
       "      <td>5.524840e+09</td>\n",
       "      <td>營業毛利（毛損）</td>\n",
       "    </tr>\n",
       "  </tbody>\n",
       "</table>\n",
       "<p>125 rows × 6 columns</p>\n",
       "</div>"
      ],
      "text/plain": [
       "     index        date stock_id                                 type  \\\n",
       "329    329  2021-06-30     1101                    OperatingExpenses   \n",
       "330    330  2021-06-30     1101                                  TAX   \n",
       "331    331  2021-06-30     1101  IncomeLossFromDiscontinuedOperation   \n",
       "332    332  2021-06-30     1101                                  EPS   \n",
       "333    333  2021-06-30     1101                         PreTaxIncome   \n",
       "..     ...         ...      ...                                  ...   \n",
       "150    150  2021-03-31     1101    TotalNonoperatingIncomeAndExpense   \n",
       "151    151  2021-03-31     1101             OtherComprehensiveIncome   \n",
       "152    152  2021-03-31     1101   EquityAttributableToOwnersOfParent   \n",
       "153    153  2021-03-31     1101              NoncontrollingInterests   \n",
       "154    154  2021-03-31     1101                          GrossProfit   \n",
       "\n",
       "            value     origin_name  \n",
       "329  1.565027e+09            營業費用  \n",
       "330  2.054650e+09       所得稅費用（利益）  \n",
       "331  5.288820e+08          停業單位損益  \n",
       "332  1.250000e+00       基本每股盈餘（元）  \n",
       "333  9.798708e+09        稅前淨利（淨損）  \n",
       "..            ...             ...  \n",
       "150  6.474970e+08        營業外收入及支出  \n",
       "151 -6.930240e+08      其他綜合損益（淨額）  \n",
       "152  2.621147e+09  綜合損益總額歸屬於母公司業主  \n",
       "153  4.160660e+08  綜合損益總額歸屬於非控制權益  \n",
       "154  5.524840e+09        營業毛利（毛損）  \n",
       "\n",
       "[125 rows x 6 columns]"
      ]
     },
     "execution_count": 6,
     "metadata": {},
     "output_type": "execute_result"
    }
   ],
   "source": [
    "tempdf[tempdf['stock_id']=='1101']"
   ]
  },
  {
   "cell_type": "code",
   "execution_count": 5,
   "id": "43e49937",
   "metadata": {},
   "outputs": [
    {
     "name": "stdout",
     "output_type": "stream",
     "text": [
      "2021-06-30\n",
      "2021-09-30\n",
      "2021-12-31\n",
      "2022-03-31\n",
      "2020-06-30\n",
      "2020-09-30\n",
      "2020-12-31\n",
      "2021-03-31\n"
     ]
    }
   ],
   "source": [
    "for i in range(len(tempdf)):\n",
    "    for j in range(4):\n",
    "        print(tempdf[i][j])"
   ]
  },
  {
   "cell_type": "code",
   "execution_count": null,
   "id": "af73c2cb",
   "metadata": {},
   "outputs": [],
   "source": []
  }
 ],
 "metadata": {
  "kernelspec": {
   "display_name": "Python 3 (ipykernel)",
   "language": "python",
   "name": "python3"
  },
  "language_info": {
   "codemirror_mode": {
    "name": "ipython",
    "version": 3
   },
   "file_extension": ".py",
   "mimetype": "text/x-python",
   "name": "python",
   "nbconvert_exporter": "python",
   "pygments_lexer": "ipython3",
   "version": "3.9.7"
  }
 },
 "nbformat": 4,
 "nbformat_minor": 5
}
