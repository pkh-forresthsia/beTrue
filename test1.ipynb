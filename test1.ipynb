{
 "cells": [
  {
   "cell_type": "code",
   "execution_count": 1,
   "id": "a40c4478",
   "metadata": {},
   "outputs": [],
   "source": [
    "from statement import *"
   ]
  },
  {
   "cell_type": "code",
   "execution_count": 2,
   "id": "5ead73d8",
   "metadata": {},
   "outputs": [],
   "source": [
    "info=Info()"
   ]
  },
  {
   "cell_type": "code",
   "execution_count": 3,
<<<<<<< HEAD
   "id": "c8bb2e5a",
   "metadata": {},
   "outputs": [
    {
     "data": {
      "text/html": [
       "<div>\n",
       "<style scoped>\n",
       "    .dataframe tbody tr th:only-of-type {\n",
       "        vertical-align: middle;\n",
       "    }\n",
       "\n",
       "    .dataframe tbody tr th {\n",
       "        vertical-align: top;\n",
       "    }\n",
       "\n",
       "    .dataframe thead th {\n",
       "        text-align: right;\n",
       "    }\n",
       "</style>\n",
       "<table border=\"1\" class=\"dataframe\">\n",
       "  <thead>\n",
       "    <tr style=\"text-align: right;\">\n",
       "      <th></th>\n",
       "      <th>index</th>\n",
       "      <th>date</th>\n",
       "      <th>stock_id</th>\n",
       "      <th>type</th>\n",
       "      <th>value</th>\n",
       "      <th>origin_name</th>\n",
       "    </tr>\n",
       "  </thead>\n",
       "  <tbody>\n",
       "    <tr>\n",
       "      <th>0</th>\n",
       "      <td>0</td>\n",
       "      <td>2021-06-30</td>\n",
       "      <td>000104</td>\n",
       "      <td>TAX</td>\n",
       "      <td>8.552400e+07</td>\n",
       "      <td>所得稅費用（利益）</td>\n",
       "    </tr>\n",
       "    <tr>\n",
       "      <th>1</th>\n",
       "      <td>1</td>\n",
       "      <td>2021-06-30</td>\n",
       "      <td>000104</td>\n",
       "      <td>EPS</td>\n",
       "      <td>2.010000e+00</td>\n",
       "      <td>基本每股盈餘（元）</td>\n",
       "    </tr>\n",
       "    <tr>\n",
       "      <th>2</th>\n",
       "      <td>2</td>\n",
       "      <td>2021-06-30</td>\n",
       "      <td>000104</td>\n",
       "      <td>Income</td>\n",
       "      <td>9.916060e+08</td>\n",
       "      <td>收益</td>\n",
       "    </tr>\n",
       "    <tr>\n",
       "      <th>3</th>\n",
       "      <td>3</td>\n",
       "      <td>2021-06-30</td>\n",
       "      <td>000104</td>\n",
       "      <td>Expense</td>\n",
       "      <td>3.129180e+08</td>\n",
       "      <td>支出及費用</td>\n",
       "    </tr>\n",
       "    <tr>\n",
       "      <th>4</th>\n",
       "      <td>4</td>\n",
       "      <td>2021-06-30</td>\n",
       "      <td>000104</td>\n",
       "      <td>OperatingIncome</td>\n",
       "      <td>6.786880e+08</td>\n",
       "      <td>營業利益</td>\n",
       "    </tr>\n",
       "    <tr>\n",
       "      <th>...</th>\n",
       "      <td>...</td>\n",
       "      <td>...</td>\n",
       "      <td>...</td>\n",
       "      <td>...</td>\n",
       "      <td>...</td>\n",
       "      <td>...</td>\n",
       "    </tr>\n",
       "    <tr>\n",
       "      <th>34323</th>\n",
       "      <td>34323</td>\n",
       "      <td>2021-06-30</td>\n",
       "      <td>9986</td>\n",
       "      <td>Revenue</td>\n",
       "      <td>3.009980e+08</td>\n",
       "      <td>營業收入</td>\n",
       "    </tr>\n",
       "    <tr>\n",
       "      <th>34324</th>\n",
       "      <td>34324</td>\n",
       "      <td>2021-06-30</td>\n",
       "      <td>9986</td>\n",
       "      <td>CostOfGoodsSold</td>\n",
       "      <td>2.164020e+08</td>\n",
       "      <td>營業成本</td>\n",
       "    </tr>\n",
       "    <tr>\n",
       "      <th>34325</th>\n",
       "      <td>34325</td>\n",
       "      <td>2021-06-30</td>\n",
       "      <td>9986</td>\n",
       "      <td>OperatingIncome</td>\n",
       "      <td>4.674100e+07</td>\n",
       "      <td>營業利益（損失）</td>\n",
       "    </tr>\n",
       "    <tr>\n",
       "      <th>34326</th>\n",
       "      <td>34326</td>\n",
       "      <td>2021-06-30</td>\n",
       "      <td>9986</td>\n",
       "      <td>TotalNonoperatingIncomeAndExpense</td>\n",
       "      <td>-8.107000e+06</td>\n",
       "      <td>營業外收入及支出</td>\n",
       "    </tr>\n",
       "    <tr>\n",
       "      <th>34327</th>\n",
       "      <td>34327</td>\n",
       "      <td>2021-06-30</td>\n",
       "      <td>9986</td>\n",
       "      <td>GrossProfit</td>\n",
       "      <td>8.459600e+07</td>\n",
       "      <td>營業毛利（毛損）淨額</td>\n",
       "    </tr>\n",
       "  </tbody>\n",
       "</table>\n",
       "<p>34328 rows × 6 columns</p>\n",
       "</div>"
      ],
      "text/plain": [
       "       index        date stock_id                               type  \\\n",
       "0          0  2021-06-30   000104                                TAX   \n",
       "1          1  2021-06-30   000104                                EPS   \n",
       "2          2  2021-06-30   000104                             Income   \n",
       "3          3  2021-06-30   000104                            Expense   \n",
       "4          4  2021-06-30   000104                    OperatingIncome   \n",
       "...      ...         ...      ...                                ...   \n",
       "34323  34323  2021-06-30     9986                            Revenue   \n",
       "34324  34324  2021-06-30     9986                    CostOfGoodsSold   \n",
       "34325  34325  2021-06-30     9986                    OperatingIncome   \n",
       "34326  34326  2021-06-30     9986  TotalNonoperatingIncomeAndExpense   \n",
       "34327  34327  2021-06-30     9986                        GrossProfit   \n",
       "\n",
       "              value origin_name  \n",
       "0      8.552400e+07   所得稅費用（利益）  \n",
       "1      2.010000e+00   基本每股盈餘（元）  \n",
       "2      9.916060e+08          收益  \n",
       "3      3.129180e+08       支出及費用  \n",
       "4      6.786880e+08        營業利益  \n",
       "...             ...         ...  \n",
       "34323  3.009980e+08        營業收入  \n",
       "34324  2.164020e+08        營業成本  \n",
       "34325  4.674100e+07    營業利益（損失）  \n",
       "34326 -8.107000e+06    營業外收入及支出  \n",
       "34327  8.459600e+07  營業毛利（毛損）淨額  \n",
       "\n",
       "[34328 rows x 6 columns]"
      ]
     },
     "execution_count": 3,
     "metadata": {},
     "output_type": "execute_result"
    }
   ],
   "source": [
    "info.nYearDataFromSql('2021-06-30')"
   ]
  },
  {
   "cell_type": "code",
   "execution_count": 4,
=======
>>>>>>> 10cac85122eb3d3419053be84544eebe39748995
   "id": "45bd16f6",
   "metadata": {},
   "outputs": [
    {
     "data": {
      "text/html": [
       "<div>\n",
       "<style scoped>\n",
       "    .dataframe tbody tr th:only-of-type {\n",
       "        vertical-align: middle;\n",
       "    }\n",
       "\n",
       "    .dataframe tbody tr th {\n",
       "        vertical-align: top;\n",
       "    }\n",
       "\n",
       "    .dataframe thead th {\n",
       "        text-align: right;\n",
       "    }\n",
       "</style>\n",
       "<table border=\"1\" class=\"dataframe\">\n",
       "  <thead>\n",
       "    <tr style=\"text-align: right;\">\n",
       "      <th></th>\n",
       "      <th>date</th>\n",
       "      <th>stock_id</th>\n",
       "      <th>type</th>\n",
       "      <th>value</th>\n",
       "      <th>origin_name</th>\n",
       "    </tr>\n",
       "  </thead>\n",
       "  <tbody>\n",
       "    <tr>\n",
       "      <th>0</th>\n",
       "      <td>2021-06-30</td>\n",
       "      <td>000104</td>\n",
       "      <td>TAX</td>\n",
       "      <td>8.552400e+07</td>\n",
       "      <td>所得稅費用（利益）</td>\n",
       "    </tr>\n",
       "    <tr>\n",
       "      <th>1</th>\n",
       "      <td>2021-06-30</td>\n",
       "      <td>000104</td>\n",
       "      <td>EPS</td>\n",
       "      <td>2.010000e+00</td>\n",
       "      <td>基本每股盈餘（元）</td>\n",
       "    </tr>\n",
       "    <tr>\n",
       "      <th>2</th>\n",
       "      <td>2021-06-30</td>\n",
       "      <td>000104</td>\n",
       "      <td>Income</td>\n",
       "      <td>9.916060e+08</td>\n",
       "      <td>收益</td>\n",
       "    </tr>\n",
       "    <tr>\n",
       "      <th>3</th>\n",
       "      <td>2021-06-30</td>\n",
       "      <td>000104</td>\n",
       "      <td>Expense</td>\n",
       "      <td>3.129180e+08</td>\n",
       "      <td>支出及費用</td>\n",
       "    </tr>\n",
       "    <tr>\n",
       "      <th>4</th>\n",
       "      <td>2021-06-30</td>\n",
       "      <td>000104</td>\n",
       "      <td>OperatingIncome</td>\n",
       "      <td>6.786880e+08</td>\n",
       "      <td>營業利益</td>\n",
       "    </tr>\n",
       "    <tr>\n",
       "      <th>...</th>\n",
       "      <td>...</td>\n",
       "      <td>...</td>\n",
       "      <td>...</td>\n",
       "      <td>...</td>\n",
       "      <td>...</td>\n",
       "    </tr>\n",
       "    <tr>\n",
       "      <th>34323</th>\n",
       "      <td>2021-06-30</td>\n",
       "      <td>9986</td>\n",
       "      <td>Revenue</td>\n",
       "      <td>3.009980e+08</td>\n",
       "      <td>營業收入</td>\n",
       "    </tr>\n",
       "    <tr>\n",
       "      <th>34324</th>\n",
       "      <td>2021-06-30</td>\n",
       "      <td>9986</td>\n",
       "      <td>CostOfGoodsSold</td>\n",
       "      <td>2.164020e+08</td>\n",
       "      <td>營業成本</td>\n",
       "    </tr>\n",
       "    <tr>\n",
       "      <th>34325</th>\n",
       "      <td>2021-06-30</td>\n",
       "      <td>9986</td>\n",
       "      <td>OperatingIncome</td>\n",
       "      <td>4.674100e+07</td>\n",
       "      <td>營業利益（損失）</td>\n",
       "    </tr>\n",
       "    <tr>\n",
       "      <th>34326</th>\n",
       "      <td>2021-06-30</td>\n",
       "      <td>9986</td>\n",
       "      <td>TotalNonoperatingIncomeAndExpense</td>\n",
       "      <td>-8.107000e+06</td>\n",
       "      <td>營業外收入及支出</td>\n",
       "    </tr>\n",
       "    <tr>\n",
       "      <th>34327</th>\n",
       "      <td>2021-06-30</td>\n",
       "      <td>9986</td>\n",
       "      <td>GrossProfit</td>\n",
       "      <td>8.459600e+07</td>\n",
       "      <td>營業毛利（毛損）淨額</td>\n",
       "    </tr>\n",
       "  </tbody>\n",
       "</table>\n",
       "<p>34328 rows × 5 columns</p>\n",
       "</div>"
      ],
      "text/plain": [
       "             date stock_id                               type         value  \\\n",
       "0      2021-06-30   000104                                TAX  8.552400e+07   \n",
       "1      2021-06-30   000104                                EPS  2.010000e+00   \n",
       "2      2021-06-30   000104                             Income  9.916060e+08   \n",
       "3      2021-06-30   000104                            Expense  3.129180e+08   \n",
       "4      2021-06-30   000104                    OperatingIncome  6.786880e+08   \n",
       "...           ...      ...                                ...           ...   \n",
       "34323  2021-06-30     9986                            Revenue  3.009980e+08   \n",
       "34324  2021-06-30     9986                    CostOfGoodsSold  2.164020e+08   \n",
       "34325  2021-06-30     9986                    OperatingIncome  4.674100e+07   \n",
       "34326  2021-06-30     9986  TotalNonoperatingIncomeAndExpense -8.107000e+06   \n",
       "34327  2021-06-30     9986                        GrossProfit  8.459600e+07   \n",
       "\n",
       "      origin_name  \n",
       "0       所得稅費用（利益）  \n",
       "1       基本每股盈餘（元）  \n",
       "2              收益  \n",
       "3           支出及費用  \n",
       "4            營業利益  \n",
       "...           ...  \n",
       "34323        營業收入  \n",
       "34324        營業成本  \n",
       "34325    營業利益（損失）  \n",
       "34326    營業外收入及支出  \n",
       "34327  營業毛利（毛損）淨額  \n",
       "\n",
       "[34328 rows x 5 columns]"
      ]
     },
     "execution_count": 3,
     "metadata": {},
     "output_type": "execute_result"
    }
   ],
   "source": [
    "info.getAll('2021-06-30')"
   ]
  },
  {
   "cell_type": "code",
   "execution_count": 2,
   "id": "960710ea",
   "metadata": {},
   "outputs": [],
   "source": [
    "from basic import *"
   ]
  },
  {
   "cell_type": "code",
   "execution_count": 3,
   "id": "a54a850c",
   "metadata": {},
   "outputs": [],
   "source": [
    "sd=SeasonData('2022-11-03')"
   ]
  },
  {
   "cell_type": "code",
   "execution_count": 9,
   "id": "61932b80",
   "metadata": {},
   "outputs": [
    {
     "data": {
      "text/plain": [
       "['2021-11-14', '2022-03-31', '2022-05-15', '2022-08-14']"
      ]
     },
     "execution_count": 9,
     "metadata": {},
     "output_type": "execute_result"
    }
   ],
   "source": [
    "sd.firstPeriod()"
   ]
  },
  {
   "cell_type": "code",
   "execution_count": 7,
   "id": "61bded52",
   "metadata": {},
   "outputs": [
    {
     "data": {
      "text/plain": [
       "'2020-12-31'"
      ]
     },
     "execution_count": 7,
     "metadata": {},
     "output_type": "execute_result"
    }
   ],
   "source": [
    "sd.responseStatementDate('2021-03-31')"
   ]
  },
  {
   "cell_type": "code",
   "execution_count": 4,
   "id": "eb4aece9",
   "metadata": {},
   "outputs": [
    {
     "data": {
      "text/plain": [
       "[['2021-09-30', '2021-12-31', '2022-03-31', '2022-06-30'],\n",
       " ['2020-09-30', '2020-12-31', '2021-03-31', '2021-06-30']]"
      ]
     },
     "execution_count": 4,
     "metadata": {},
     "output_type": "execute_result"
    }
   ],
   "source": [
    "sd.nYearPeriod(2)"
   ]
  },
  {
   "cell_type": "code",
   "execution_count": null,
   "id": "dc9a3b72",
   "metadata": {},
   "outputs": [],
   "source": []
  }
 ],
 "metadata": {
  "kernelspec": {
   "display_name": "Python 3 (ipykernel)",
   "language": "python",
   "name": "python3"
  },
  "language_info": {
   "codemirror_mode": {
    "name": "ipython",
    "version": 3
   },
   "file_extension": ".py",
   "mimetype": "text/x-python",
   "name": "python",
   "nbconvert_exporter": "python",
   "pygments_lexer": "ipython3",
   "version": "3.9.13"
  }
 },
 "nbformat": 4,
 "nbformat_minor": 5
}
