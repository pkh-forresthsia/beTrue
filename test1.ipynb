{
 "cells": [
  {
   "cell_type": "code",
   "execution_count": 1,
   "id": "4d9f9106",
   "metadata": {},
   "outputs": [],
   "source": [
    "from statement import *"
   ]
  },
  {
   "cell_type": "code",
   "execution_count": 2,
   "id": "076a74d5",
   "metadata": {},
   "outputs": [],
   "source": [
    "st=StatementManage('2022-11-08',2)"
   ]
  },
  {
   "cell_type": "code",
   "execution_count": 3,
   "id": "b4af2cd3",
   "metadata": {},
   "outputs": [],
   "source": [
    "columns=st.nYearDataFromSql.pivot_table(columns=['type','origin_name']).columns"
   ]
  },
  {
   "cell_type": "code",
   "execution_count": 15,
   "id": "4ee80419",
   "metadata": {
    "scrolled": true
   },
   "outputs": [
    {
     "name": "stdout",
     "output_type": "stream",
     "text": [
      "('-', '合併前非屬共同控制股權損益')\n",
      "('-', '合併前非屬共同控制股權綜合損益淨額')\n",
      "('-', '淨利（損）歸屬於共同控制下前手權益')\n",
      "('-', '淨利（淨損）歸屬於共同控制下前手權益')\n",
      "('-', '綜合損益總額歸屬於共同控制下前手權益')\n",
      "('BadDebts', '呆帳費用、承諾及保證責任準備提存')\n",
      "('CostOfGoodsSold', '支出')\n",
      "('CostOfGoodsSold', '營業成本')\n",
      "('EPS', '基本每股盈餘（元）')\n",
      "('EquityAttributableToOwnersOfParent', '淨利（損）歸屬於母公司業主')\n",
      "('EquityAttributableToOwnersOfParent', '淨利（淨損）歸屬於母公司業主')\n",
      "('EquityAttributableToOwnersOfParent', '綜合損益總額歸屬於母公司業主')\n",
      "('Expense', '支出及費用')\n",
      "('GainsOnChangesInFairValueLessCosts2SellOfBiologicalAssetsForCurrentPeriod', '生物資產當期公允價值減出售成本之變動利益（損失）')\n",
      "('GainsOnInitialRecognitionOfBiologicalAssetsForCurrentPeriod', '原始認列生物資產及農產品之利益（損失）')\n",
      "('GrossProfit', '營業毛利（毛損）')\n",
      "('GrossProfit', '營業毛利（毛損）淨額')\n",
      "('Income', '收益')\n",
      "('IncomeAfterTax', '本期稅後淨利（淨損）')\n",
      "('IncomeAfterTaxes', '本期淨利（淨損）')\n",
      "('IncomeBeforeTaxFromContinuingOperations', '繼續營業單位稅前淨利（淨損）')\n",
      "('IncomeFromContinuingOperations', '繼續營業單位本期淨利（淨損）')\n",
      "('IncomeFromContinuingOperations', '繼續營業單位本期稅後淨利（淨損）')\n",
      "('IncomeFromContinuingOperations', '繼續營業單位本期純益（純損）')\n",
      "('IncomeLossFromDiscontinuedOperation', '停業單位損益')\n",
      "('NetChangeInProvisionsForInsuranceLiabilities', '保險負債準備淨變動')\n",
      "('NetInterestIncome', '利息淨收益')\n",
      "('NetNonInterestIncome', '利息以外淨損益')\n",
      "('NetNonInterestIncome', '利息以外淨收益')\n",
      "('NoncontrollingInterests', '淨利（損）歸屬於非控制權益')\n",
      "('NoncontrollingInterests', '淨利（淨損）歸屬於非控制權益')\n",
      "('NoncontrollingInterests', '綜合損益總額歸屬於非控制權益')\n",
      "('OTHNOE', '其他收益及費損淨額')\n",
      "('OperatingExpenses', '營業費用')\n",
      "('OperatingIncome', '營業利益')\n",
      "('OperatingIncome', '營業利益（損失）')\n",
      "('OtherComprehensiveIncome', '其他綜合損益')\n",
      "('OtherComprehensiveIncome', '其他綜合損益（淨額）')\n",
      "('OtherComprehensiveIncome', '其他綜合損益（稅後）')\n",
      "('OtherComprehensiveIncomeAfterTax', '其他綜合損益（稅後淨額）')\n",
      "('OtherComprehensiveIncomeAfterTax', '本期其他綜合損益（稅後淨額）')\n",
      "('OtherComprehensiveIncomeAfterTaxThePeriod', '本期其他綜合損益（稅後淨額）')\n",
      "('OtherComprehensiveIncomeAfterTaxThePeriod', '本期綜合損益總額（稅後）')\n",
      "('PreTaxIncome', '稅前淨利（淨損）')\n",
      "('PreTaxIncome', '繼續營業單位稅前損益')\n",
      "('PreTaxIncome', '繼續營業單位稅前純益（純損）')\n",
      "('RealizedGain', '已實現銷貨（損）益')\n",
      "('Revenue', '收入')\n",
      "('Revenue', '淨收益')\n",
      "('Revenue', '營業收入')\n",
      "('TAX', '所得稅費用（利益）')\n",
      "('TAX', '所得稅（費用）利益')\n",
      "('TotalConsolidatedProfitForThePeriod', '本期綜合損益總額')\n",
      "('TotalNonbusinessIncome', '營業外損益')\n",
      "('TotalNonoperatingIncomeAndExpense', '營業外收入及支出')\n",
      "('UnrealizedGain', '未實現銷貨（損）益')\n"
     ]
    }
   ],
   "source": [
    "for item in columns:\n",
    "    print(item)"
   ]
  },
  {
   "cell_type": "code",
   "execution_count": 6,
   "id": "c900289c",
   "metadata": {},
   "outputs": [
    {
     "data": {
      "text/plain": [
       "date\n",
       "2020-09-30    5.30\n",
       "2020-12-31    5.50\n",
       "2021-03-31    5.39\n",
       "2021-06-30    5.18\n",
       "2021-09-30    6.02\n",
       "2021-12-31    6.42\n",
       "2022-03-31    7.82\n",
       "2022-06-30    9.14\n",
       "Name: 2330, dtype: float64"
      ]
     },
     "execution_count": 6,
     "metadata": {},
     "output_type": "execute_result"
    }
   ],
   "source": [
    "st.getType('EPS')['2330']"
   ]
  },
  {
   "cell_type": "code",
   "execution_count": 6,
   "id": "98bbdafc",
   "metadata": {},
   "outputs": [
    {
     "name": "stderr",
     "output_type": "stream",
     "text": [
      "C:\\Users\\user\\anaconda3\\lib\\site-packages\\pandas\\core\\indexing.py:1732: SettingWithCopyWarning: \n",
      "A value is trying to be set on a copy of a slice from a DataFrame\n",
      "\n",
      "See the caveats in the documentation: https://pandas.pydata.org/pandas-docs/stable/user_guide/indexing.html#returning-a-view-versus-a-copy\n",
      "  self._setitem_single_block(indexer, value, name)\n"
     ]
    }
   ],
   "source": [
    "getType=st.getType('EPS')\n",
    "rollingData=st.stockRolling(getType,'2330')\n",
    "increaseP=st.rollingIncrease(rollingData)"
   ]
  },
  {
   "cell_type": "code",
   "execution_count": 8,
   "id": "51061286",
   "metadata": {},
   "outputs": [
    {
     "data": {
      "text/plain": [
       "{'increasePeriod': [4], 'decreasePeriod': [], 'endPeriod': 4}"
      ]
     },
     "execution_count": 8,
     "metadata": {},
     "output_type": "execute_result"
    }
   ],
   "source": [
    "st.increasePeriodData(increaseP)"
   ]
  },
  {
   "cell_type": "code",
   "execution_count": 8,
   "id": "55a84e82",
   "metadata": {
    "scrolled": true
   },
   "outputs": [
    {
     "data": {
      "text/plain": [
       "index\n",
       "True    4\n",
       "Name: increase, dtype: int64"
      ]
     },
     "execution_count": 8,
     "metadata": {},
     "output_type": "execute_result"
    }
   ],
   "source": [
    "increaseP.groupby(by=['index'])['increase'].count()"
   ]
  },
  {
   "cell_type": "code",
   "execution_count": 11,
   "id": "7faf2cb0",
   "metadata": {},
   "outputs": [],
   "source": [
    "summaryData=increaseP"
   ]
  },
  {
   "cell_type": "code",
   "execution_count": 12,
   "id": "9cb6030a",
   "metadata": {},
   "outputs": [
    {
     "data": {
      "text/plain": [
       "index\n",
       "True    4\n",
       "Name: increase, dtype: int64"
      ]
     },
     "execution_count": 12,
     "metadata": {},
     "output_type": "execute_result"
    }
   ],
   "source": [
    "summaryData.groupby(by=['index'])['increase'].count()"
   ]
  },
  {
   "cell_type": "code",
   "execution_count": 36,
   "id": "da1c6903",
   "metadata": {},
   "outputs": [
    {
     "data": {
      "text/plain": [
       "index\n",
       "False   -10.747395\n",
       "True     13.398635\n",
       "Name: increase, dtype: float64"
      ]
     },
     "execution_count": 36,
     "metadata": {},
     "output_type": "execute_result"
    }
   ],
   "source": [
    "summaryData.groupby(by=['index'])['increase'].mean()"
   ]
  },
  {
   "cell_type": "code",
   "execution_count": 37,
   "id": "bf69b381",
   "metadata": {},
   "outputs": [
    {
     "data": {
      "text/html": [
       "<div>\n",
       "<style scoped>\n",
       "    .dataframe tbody tr th:only-of-type {\n",
       "        vertical-align: middle;\n",
       "    }\n",
       "\n",
       "    .dataframe tbody tr th {\n",
       "        vertical-align: top;\n",
       "    }\n",
       "\n",
       "    .dataframe thead th {\n",
       "        text-align: right;\n",
       "    }\n",
       "</style>\n",
       "<table border=\"1\" class=\"dataframe\">\n",
       "  <thead>\n",
       "    <tr style=\"text-align: right;\">\n",
       "      <th></th>\n",
       "      <th>increase</th>\n",
       "      <th>index</th>\n",
       "    </tr>\n",
       "    <tr>\n",
       "      <th>date</th>\n",
       "      <th></th>\n",
       "      <th></th>\n",
       "    </tr>\n",
       "  </thead>\n",
       "  <tbody>\n",
       "    <tr>\n",
       "      <th>2001-12-31</th>\n",
       "      <td>-24.277044</td>\n",
       "      <td>False</td>\n",
       "    </tr>\n",
       "    <tr>\n",
       "      <th>2002-03-31</th>\n",
       "      <td>33.191891</td>\n",
       "      <td>True</td>\n",
       "    </tr>\n",
       "    <tr>\n",
       "      <th>2002-06-30</th>\n",
       "      <td>6.973451</td>\n",
       "      <td>True</td>\n",
       "    </tr>\n",
       "    <tr>\n",
       "      <th>2002-09-30</th>\n",
       "      <td>-10.125745</td>\n",
       "      <td>False</td>\n",
       "    </tr>\n",
       "    <tr>\n",
       "      <th>2002-12-31</th>\n",
       "      <td>-1.362297</td>\n",
       "      <td>False</td>\n",
       "    </tr>\n",
       "    <tr>\n",
       "      <th>...</th>\n",
       "      <td>...</td>\n",
       "      <td>...</td>\n",
       "    </tr>\n",
       "    <tr>\n",
       "      <th>2021-06-30</th>\n",
       "      <td>33.333333</td>\n",
       "      <td>True</td>\n",
       "    </tr>\n",
       "    <tr>\n",
       "      <th>2021-09-30</th>\n",
       "      <td>18.448678</td>\n",
       "      <td>True</td>\n",
       "    </tr>\n",
       "    <tr>\n",
       "      <th>2021-12-31</th>\n",
       "      <td>15.805022</td>\n",
       "      <td>True</td>\n",
       "    </tr>\n",
       "    <tr>\n",
       "      <th>2022-03-31</th>\n",
       "      <td>6.816893</td>\n",
       "      <td>True</td>\n",
       "    </tr>\n",
       "    <tr>\n",
       "      <th>2022-06-30</th>\n",
       "      <td>6.554332</td>\n",
       "      <td>True</td>\n",
       "    </tr>\n",
       "  </tbody>\n",
       "</table>\n",
       "<p>83 rows × 2 columns</p>\n",
       "</div>"
      ],
      "text/plain": [
       "             increase  index\n",
       "date                        \n",
       "2001-12-31 -24.277044  False\n",
       "2002-03-31  33.191891   True\n",
       "2002-06-30   6.973451   True\n",
       "2002-09-30 -10.125745  False\n",
       "2002-12-31  -1.362297  False\n",
       "...               ...    ...\n",
       "2021-06-30  33.333333   True\n",
       "2021-09-30  18.448678   True\n",
       "2021-12-31  15.805022   True\n",
       "2022-03-31   6.816893   True\n",
       "2022-06-30   6.554332   True\n",
       "\n",
       "[83 rows x 2 columns]"
      ]
     },
     "execution_count": 37,
     "metadata": {},
     "output_type": "execute_result"
    }
   ],
   "source": [
    "summaryData"
   ]
  },
  {
   "cell_type": "code",
   "execution_count": 13,
   "id": "addee092",
   "metadata": {},
   "outputs": [
    {
     "name": "stdout",
     "output_type": "stream",
     "text": [
      "4\n",
      "{'increasePeriod': [4], 'decreasePeriod': [], 'endPeriod': 4}\n"
     ]
    }
   ],
   "source": [
    "tempPeriod=1\n",
    "periodSummary={'increasePeriod':[],'decreasePeriod':[],'endPeriod':0}\n",
    "for i in range(1,len(summaryData)):\n",
    "    if summaryData['index'][i]==summaryData['index'][i-1]:\n",
    "        tempPeriod=tempPeriod+1\n",
    "    else:\n",
    "        if summaryData['index'][i]==True:\n",
    "            periodSummary[\"decreasePeriod\"].append(tempPeriod)\n",
    "            print(-1*tempPeriod)\n",
    "        else:\n",
    "            print(tempPeriod)\n",
    "            periodSummary[\"increasePeriod\"].append(tempPeriod)\n",
    "        tempPeriod=1\n",
    "if summaryData['index'][-1]==True:\n",
    "    periodSummary['increasePeriod'].append(tempPeriod)\n",
    "    periodSummary['endPeriod']=tempPeriod\n",
    "else:\n",
    "    periodSummary['decreasePeriod'].append(tempPeriod)\n",
    "    periodSummary['endPeriod']=tempPeriod*-1\n",
    "print(tempPeriod)\n",
    "print(periodSummary)"
   ]
  },
  {
   "cell_type": "code",
   "execution_count": 41,
   "id": "d07729f2",
   "metadata": {},
   "outputs": [
    {
     "name": "stdout",
     "output_type": "stream",
     "text": [
      "1\n",
      "2\n"
     ]
    }
   ],
   "source": [
    "for i in range(1,3):\n",
    "    print(i)"
   ]
  },
  {
   "cell_type": "code",
   "execution_count": null,
   "id": "8f4d9be2",
   "metadata": {},
   "outputs": [],
   "source": []
  }
 ],
 "metadata": {
  "kernelspec": {
   "display_name": "Python 3 (ipykernel)",
   "language": "python",
   "name": "python3"
  },
  "language_info": {
   "codemirror_mode": {
    "name": "ipython",
    "version": 3
   },
   "file_extension": ".py",
   "mimetype": "text/x-python",
   "name": "python",
   "nbconvert_exporter": "python",
   "pygments_lexer": "ipython3",
   "version": "3.9.7"
  }
 },
 "nbformat": 4,
 "nbformat_minor": 5
}
