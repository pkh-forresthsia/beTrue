{
 "cells": [
  {
   "cell_type": "code",
   "execution_count": 1,
   "id": "0aa5901f",
   "metadata": {},
   "outputs": [],
   "source": [
    "from getData import *"
   ]
  },
  {
   "cell_type": "code",
   "execution_count": 2,
   "id": "12fd1df7",
   "metadata": {},
   "outputs": [],
   "source": [
    "combine=Combine()"
   ]
  },
  {
   "cell_type": "code",
   "execution_count": 4,
   "id": "0863a19d",
   "metadata": {
    "scrolled": false
   },
   "outputs": [],
   "source": [
    "combine.updateAll()\n",
    "# combine.initCombine()\n",
    "combine.updateCombine()"
   ]
  },
  {
   "cell_type": "code",
   "execution_count": 4,
   "id": "d3734eca",
   "metadata": {},
   "outputs": [
    {
     "name": "stdout",
     "output_type": "stream",
     "text": [
      "TaiwanStockPrice TAIEX\n"
     ]
    }
   ],
   "source": [
    "combine.singleDataPatch('TAIEX')"
   ]
  },
  {
   "cell_type": "code",
   "execution_count": null,
   "id": "283fa040",
   "metadata": {},
   "outputs": [],
   "source": []
  }
 ],
 "metadata": {
  "kernelspec": {
   "display_name": "Python 3 (ipykernel)",
   "language": "python",
   "name": "python3"
  },
  "language_info": {
   "codemirror_mode": {
    "name": "ipython",
    "version": 3
   },
   "file_extension": ".py",
   "mimetype": "text/x-python",
   "name": "python",
   "nbconvert_exporter": "python",
   "pygments_lexer": "ipython3",
   "version": "3.9.7"
  }
 },
 "nbformat": 4,
 "nbformat_minor": 5
}
