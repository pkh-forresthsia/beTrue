{
 "cells": [
  {
   "cell_type": "code",
   "execution_count": 1,
   "id": "0aa5901f",
   "metadata": {},
   "outputs": [],
   "source": [
    "from getData import *"
   ]
  },
  {
   "cell_type": "code",
   "execution_count": 2,
   "id": "12fd1df7",
   "metadata": {},
   "outputs": [],
   "source": [
    "combine=Combine()"
   ]
  },
  {
   "cell_type": "code",
   "execution_count": 3,
   "id": "0863a19d",
   "metadata": {
    "scrolled": false
   },
   "outputs": [
    {
     "name": "stdout",
     "output_type": "stream",
     "text": [
      "TaiwanStockFinancialStatements 2022-09-30\n",
      "TaiwanStockBalanceSheet 2022-09-30\n",
      "TaiwanStockCashFlowsStatement 2022-09-30\n",
      "TaiwanStockMonthRevenue 2022-11-01\n",
      "TaiwanStockPrice 2022-12-07\n"
     ]
    }
   ],
   "source": [
    "combine.updateAll()\n",
    "# combine.initCombine()"
   ]
  },
  {
   "cell_type": "code",
   "execution_count": null,
   "id": "fd539954",
   "metadata": {
    "scrolled": true
   },
   "outputs": [
    {
     "name": "stdout",
     "output_type": "stream",
     "text": [
      "checked : TaiwanStockFinancialStatements1990s03s31\n",
      "checked : TaiwanStockFinancialStatements1990s06s30\n",
      "checked : TaiwanStockFinancialStatements1990s09s30\n",
      "checked : TaiwanStockFinancialStatements1990s12s31\n",
      "checked : TaiwanStockFinancialStatements1991s03s31\n",
      "checked : TaiwanStockFinancialStatements1991s06s30\n",
      "checked : TaiwanStockFinancialStatements1991s09s30\n",
      "checked : TaiwanStockFinancialStatements1991s12s31\n",
      "checked : TaiwanStockFinancialStatements1992s03s31\n",
      "checked : TaiwanStockFinancialStatements1992s06s30\n",
      "checked : TaiwanStockFinancialStatements1992s09s30\n",
      "checked : TaiwanStockFinancialStatements1992s12s31\n",
      "checked : TaiwanStockFinancialStatements1993s03s31\n",
      "checked : TaiwanStockFinancialStatements1993s06s30\n",
      "checked : TaiwanStockFinancialStatements1993s09s30\n",
      "checked : TaiwanStockFinancialStatements1993s12s31\n",
      "checked : TaiwanStockFinancialStatements1994s03s31\n",
      "checked : TaiwanStockFinancialStatements1994s06s30\n",
      "checked : TaiwanStockFinancialStatements1994s09s30\n",
      "checked : TaiwanStockFinancialStatements1994s12s31\n",
      "checked : TaiwanStockFinancialStatements1995s03s31\n",
      "checked : TaiwanStockFinancialStatements1995s06s30\n",
      "checked : TaiwanStockFinancialStatements1995s09s30\n",
      "checked : TaiwanStockFinancialStatements1995s12s31\n",
      "checked : TaiwanStockFinancialStatements1996s03s31\n",
      "checked : TaiwanStockFinancialStatements1996s06s30\n",
      "checked : TaiwanStockFinancialStatements1996s09s30\n",
      "checked : TaiwanStockFinancialStatements1996s12s31\n",
      "checked : TaiwanStockFinancialStatements1997s03s31\n",
      "checked : TaiwanStockFinancialStatements1997s06s30\n",
      "checked : TaiwanStockFinancialStatements1997s09s30\n",
      "checked : TaiwanStockFinancialStatements1997s12s31\n",
      "checked : TaiwanStockFinancialStatements1998s03s31\n",
      "checked : TaiwanStockFinancialStatements1998s06s30\n",
      "checked : TaiwanStockFinancialStatements1998s09s30\n",
      "checked : TaiwanStockFinancialStatements1998s12s31\n",
      "checked : TaiwanStockFinancialStatements1999s03s31\n",
      "checked : TaiwanStockFinancialStatements1999s06s30\n",
      "checked : TaiwanStockFinancialStatements1999s09s30\n",
      "checked : TaiwanStockFinancialStatements1999s12s31\n",
      "checked : TaiwanStockFinancialStatements2000s03s31\n",
      "checked : TaiwanStockFinancialStatements2000s06s30\n",
      "checked : TaiwanStockFinancialStatements2000s09s30\n",
      "checked : TaiwanStockFinancialStatements2000s12s31\n",
      "checked : TaiwanStockFinancialStatements2001s03s31\n",
      "checked : TaiwanStockFinancialStatements2001s06s30\n",
      "checked : TaiwanStockFinancialStatements2001s09s30\n",
      "checked : TaiwanStockFinancialStatements2001s12s31\n",
      "checked : TaiwanStockFinancialStatements2002s03s31\n",
      "checked : TaiwanStockFinancialStatements2002s06s30\n",
      "checked : TaiwanStockFinancialStatements2002s09s30\n",
      "checked : TaiwanStockFinancialStatements2002s12s31\n",
      "checked : TaiwanStockFinancialStatements2003s03s31\n",
      "checked : TaiwanStockFinancialStatements2003s06s30\n",
      "checked : TaiwanStockFinancialStatements2003s09s30\n",
      "checked : TaiwanStockFinancialStatements2003s12s31\n",
      "checked : TaiwanStockFinancialStatements2004s03s31\n",
      "checked : TaiwanStockFinancialStatements2004s06s30\n",
      "checked : TaiwanStockFinancialStatements2004s09s30\n",
      "checked : TaiwanStockFinancialStatements2004s12s31\n",
      "checked : TaiwanStockFinancialStatements2005s03s31\n",
      "checked : TaiwanStockFinancialStatements2005s06s30\n",
      "checked : TaiwanStockFinancialStatements2005s09s30\n",
      "checked : TaiwanStockFinancialStatements2005s12s31\n",
      "checked : TaiwanStockFinancialStatements2006s03s31\n",
      "checked : TaiwanStockFinancialStatements2006s06s30\n",
      "checked : TaiwanStockFinancialStatements2006s09s30\n",
      "checked : TaiwanStockFinancialStatements2006s12s31\n",
      "checked : TaiwanStockFinancialStatements2007s03s31\n",
      "checked : TaiwanStockFinancialStatements2007s06s30\n",
      "checked : TaiwanStockFinancialStatements2007s09s30\n",
      "checked : TaiwanStockFinancialStatements2007s12s31\n",
      "checked : TaiwanStockFinancialStatements2008s03s31\n",
      "checked : TaiwanStockFinancialStatements2008s06s30\n",
      "checked : TaiwanStockFinancialStatements2008s09s30\n",
      "checked : TaiwanStockFinancialStatements2008s12s31\n",
      "checked : TaiwanStockFinancialStatements2009s03s31\n",
      "checked : TaiwanStockFinancialStatements2009s06s30\n",
      "checked : TaiwanStockFinancialStatements2009s09s30\n",
      "checked : TaiwanStockFinancialStatements2009s12s31\n",
      "checked : TaiwanStockFinancialStatements2010s03s31\n",
      "checked : TaiwanStockFinancialStatements2010s06s30\n",
      "checked : TaiwanStockFinancialStatements2010s09s30\n",
      "checked : TaiwanStockFinancialStatements2010s12s31\n",
      "checked : TaiwanStockFinancialStatements2011s03s31\n",
      "checked : TaiwanStockFinancialStatements2011s06s30\n",
      "checked : TaiwanStockFinancialStatements2011s09s30\n",
      "checked : TaiwanStockFinancialStatements2011s12s31\n",
      "checked : TaiwanStockFinancialStatements2012s03s31\n",
      "checked : TaiwanStockFinancialStatements2012s06s30\n",
      "checked : TaiwanStockFinancialStatements2012s09s30\n",
      "checked : TaiwanStockFinancialStatements2012s12s31\n",
      "checked : TaiwanStockFinancialStatements2013s03s31\n",
      "checked : TaiwanStockFinancialStatements2013s06s30\n",
      "checked : TaiwanStockFinancialStatements2013s09s30\n",
      "checked : TaiwanStockFinancialStatements2013s12s31\n",
      "checked : TaiwanStockFinancialStatements2014s03s31\n",
      "checked : TaiwanStockFinancialStatements2014s06s30\n",
      "checked : TaiwanStockFinancialStatements2014s09s30\n",
      "checked : TaiwanStockFinancialStatements2014s12s31\n",
      "checked : TaiwanStockFinancialStatements2015s03s31\n",
      "checked : TaiwanStockFinancialStatements2015s06s30\n",
      "checked : TaiwanStockFinancialStatements2015s09s30\n",
      "checked : TaiwanStockFinancialStatements2015s12s31\n",
      "checked : TaiwanStockFinancialStatements2016s03s31\n",
      "checked : TaiwanStockFinancialStatements2016s06s30\n",
      "checked : TaiwanStockFinancialStatements2016s09s30\n",
      "checked : TaiwanStockFinancialStatements2016s12s31\n",
      "checked : TaiwanStockFinancialStatements2017s03s31\n",
      "checked : TaiwanStockFinancialStatements2017s06s30\n",
      "checked : TaiwanStockFinancialStatements2017s09s30\n",
      "checked : TaiwanStockFinancialStatements2017s12s31\n",
      "checked : TaiwanStockFinancialStatements2018s03s31\n",
      "checked : TaiwanStockFinancialStatements2018s06s30\n",
      "checked : TaiwanStockFinancialStatements2018s09s30\n",
      "checked : TaiwanStockFinancialStatements2018s12s31\n",
      "checked : TaiwanStockFinancialStatements2019s03s31\n",
      "checked : TaiwanStockFinancialStatements2019s06s30\n",
      "checked : TaiwanStockFinancialStatements2019s09s30\n",
      "checked : TaiwanStockFinancialStatements2019s12s31\n",
      "checked : TaiwanStockFinancialStatements2020s03s31\n",
      "checked : TaiwanStockFinancialStatements2020s06s30\n",
      "checked : TaiwanStockFinancialStatements2020s09s30\n",
      "checked : TaiwanStockFinancialStatements2020s12s31\n",
      "checked : TaiwanStockFinancialStatements2021s03s31\n",
      "checked : TaiwanStockFinancialStatements2021s06s30\n",
      "checked : TaiwanStockFinancialStatements2021s09s30\n",
      "checked : TaiwanStockFinancialStatements2021s12s31\n",
      "checked : TaiwanStockFinancialStatements2022s03s31\n",
      "checked : TaiwanStockFinancialStatements2022s06s30\n",
      "checked : TaiwanStockFinancialStatements2022s09s30\n"
     ]
    }
   ],
   "source": [
    "combine.updateCombine()"
   ]
  },
  {
   "cell_type": "code",
   "execution_count": 3,
   "id": "d3734eca",
   "metadata": {},
   "outputs": [
    {
     "name": "stdout",
     "output_type": "stream",
     "text": [
      "TaiwanStockPrice TAIEX\n"
     ]
    }
   ],
   "source": [
    "combine.singleDataPatch('TAIEX')"
   ]
  },
  {
   "cell_type": "code",
   "execution_count": null,
   "id": "283fa040",
   "metadata": {},
   "outputs": [],
   "source": []
  }
 ],
 "metadata": {
  "kernelspec": {
   "display_name": "Python 3 (ipykernel)",
   "language": "python",
   "name": "python3"
  },
  "language_info": {
   "codemirror_mode": {
    "name": "ipython",
    "version": 3
   },
   "file_extension": ".py",
   "mimetype": "text/x-python",
   "name": "python",
   "nbconvert_exporter": "python",
   "pygments_lexer": "ipython3",
   "version": "3.9.13"
  }
 },
 "nbformat": 4,
 "nbformat_minor": 5
}
