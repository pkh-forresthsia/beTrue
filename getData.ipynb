{
 "cells": [
  {
   "cell_type": "code",
   "execution_count": 1,
   "id": "0aa5901f",
   "metadata": {},
   "outputs": [],
   "source": [
    "from getData import *"
   ]
  },
  {
   "cell_type": "code",
   "execution_count": 2,
   "id": "12fd1df7",
   "metadata": {},
   "outputs": [],
   "source": [
    "apiData=FromAPI()\n",
    "downloadData=DownloadData()"
   ]
  },
  {
   "cell_type": "code",
   "execution_count": 4,
   "id": "647a8a50",
   "metadata": {},
   "outputs": [],
   "source": [
    "downloadData.multiData('2019-03-31',\"TaiwanStockCashFlowsStatement\")"
   ]
  },
  {
   "cell_type": "code",
   "execution_count": null,
   "id": "3e2bf139",
   "metadata": {},
   "outputs": [],
   "source": []
  }
 ],
 "metadata": {
  "kernelspec": {
   "display_name": "Python 3 (ipykernel)",
   "language": "python",
   "name": "python3"
  },
  "language_info": {
   "codemirror_mode": {
    "name": "ipython",
    "version": 3
   },
   "file_extension": ".py",
   "mimetype": "text/x-python",
   "name": "python",
   "nbconvert_exporter": "python",
   "pygments_lexer": "ipython3",
   "version": "3.9.13"
  }
 },
 "nbformat": 4,
 "nbformat_minor": 5
}
