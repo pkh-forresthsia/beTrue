{
 "cells": [
  {
   "cell_type": "code",
   "execution_count": 1,
   "id": "89849fdd",
   "metadata": {},
   "outputs": [],
   "source": [
    "from seasonData import *\n",
    "\n",
    "sd=StatementData()"
   ]
  },
  {
   "cell_type": "code",
   "execution_count": 2,
   "id": "e0ed251e",
   "metadata": {},
   "outputs": [],
   "source": [
    "pd.set_option('display.max_columns',None)\n",
    "pd.set_option('display.max_rows',None)"
   ]
  }
 ],
 "metadata": {
  "kernelspec": {
   "display_name": "Python 3 (ipykernel)",
   "language": "python",
   "name": "python3"
  },
  "language_info": {
   "codemirror_mode": {
    "name": "ipython",
    "version": 3
   },
   "file_extension": ".py",
   "mimetype": "text/x-python",
   "name": "python",
   "nbconvert_exporter": "python",
   "pygments_lexer": "ipython3",
   "version": "3.9.7"
  }
 },
 "nbformat": 4,
 "nbformat_minor": 5
}
